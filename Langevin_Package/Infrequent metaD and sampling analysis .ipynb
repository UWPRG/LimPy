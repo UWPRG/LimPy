{
 "cells": [
  {
   "cell_type": "markdown",
   "metadata": {},
   "source": [
    "## Infrequent MetaD analysis"
   ]
  },
  {
   "cell_type": "code",
   "execution_count": 1,
   "metadata": {
    "collapsed": true
   },
   "outputs": [],
   "source": [
    "#libraries needed\n",
    "import matplotlib.pyplot as plt \n",
    "import numpy as np\n",
    "from matplotlib.legend_handler import HandlerLine2D\n",
    "import matplotlib.lines as mlines\n",
    "from scipy.optimize import curve_fit\n",
    "from scipy.misc import factorial\n",
    "from scipy.stats import ks_2samp\n",
    "from scipy import stats\n",
    "import os, sys"
   ]
  },
  {
   "cell_type": "code",
   "execution_count": 3,
   "metadata": {
    "collapsed": false
   },
   "outputs": [],
   "source": [
    "datain=np.genfromtxt('250stride1DA.csv',delimiter=',')\n",
    "data=datain[:,1]*1e9\n",
    "#rint np.size(data)\n",
    "#data now in \"ns for each escape event\n",
    "min=np.min(data)\n",
    "max=np.max(data)\n",
    "bins=10*np.size(data)\n",
    "\n",
    "#logscale of times\n",
    "time=np.logspace(np.log10(min),np.log10(max),num=bins)\n",
    "mu=np.mean(data)\n",
    "\n",
    "#print time\n",
    "time_centers = np.r_[0.5 * (time[:-1] + time[1:])]\n",
    "#print time_centers\n",
    "#this is because MATLAB works on the bin centers, numpy works on the bin edges"
   ]
  },
  {
   "cell_type": "code",
   "execution_count": 4,
   "metadata": {
    "collapsed": true
   },
   "outputs": [],
   "source": [
    "def analyticalCDF(times,tau):\n",
    "    return 1-np.exp(-times/tau)\n",
    "    "
   ]
  },
  {
   "cell_type": "code",
   "execution_count": 5,
   "metadata": {
    "collapsed": true
   },
   "outputs": [],
   "source": [
    "#Make histogram and CDF\n",
    "hist, bins2=np.histogram(data,bins=time,density=False)\n",
    "cdf=np.cumsum(hist)*1.0/data.size\n"
   ]
  },
  {
   "cell_type": "code",
   "execution_count": 6,
   "metadata": {
    "collapsed": false
   },
   "outputs": [
    {
     "name": "stdout",
     "output_type": "stream",
     "text": [
      "mu (ns)\t\t3.03896590139e+14\n",
      "taufit (ns)\t2.79904346118e+14\n"
     ]
    }
   ],
   "source": [
    "taufit, pcov = curve_fit(analyticalCDF,time_centers, cdf,mu)\n",
    "print \"mu (ns)\\t\\t\" ,mu\n",
    "print \"taufit (ns)\\t\" ,taufit[0]"
   ]
  },
  {
   "cell_type": "code",
   "execution_count": 7,
   "metadata": {
    "collapsed": false
   },
   "outputs": [
    {
     "data": {
      "image/png": "[encoded data removed]",
      "text/plain": [
       "<matplotlib.figure.Figure at 0x1093ed350>"
      ]
     },
     "metadata": {},
     "output_type": "display_data"
    }
   ],
   "source": [
    "#lets make some plots\n",
    "%matplotlib inline \n",
    "fig = plt.figure(figsize=(6,6))\n",
    "fig.subplots_adjust(left=None, bottom=None, right=None, top=None, wspace=None, hspace=0.2)\n",
    "\n",
    "axes = fig.add_subplot(111)\n",
    "axes.plot(bins2[1:bins],cdf,label='$CDF$')\n",
    "axes.set_xscale('log')\n",
    "axes.plot(time_centers,analyticalCDF(time_centers,taufit),label='$analytical\\ CDF$')\n",
    "first_legend = plt.legend(loc=0)\n",
    "axes.set_xlabel('$log\\ time\\ (ns)$')\n",
    "axes.set_ylabel('$P_{n\\geq1}$')\n",
    "plt.show()"
   ]
  },
  {
   "cell_type": "code",
   "execution_count": 8,
   "metadata": {
    "collapsed": false
   },
   "outputs": [
    {
     "name": "stderr",
     "output_type": "stream",
     "text": [
      "/Users/chrisfu/anaconda/lib/python2.7/site-packages/ipykernel/__main__.py:3: DeprecationWarning: using a non-integer number instead of an integer will result in an error in the future\n",
      "  app.launch_new_instance()\n"
     ]
    }
   ],
   "source": [
    "#generate  random data points from the analytical fit based on taufit\n",
    "points=1e5\n",
    "randdata=np.random.gamma(1,taufit,np.size(data)*points)\n",
    "\n",
    "#perfrom the KS test to see if the data points from MetaD are statistically\n",
    "#the same as the data points from the analytical fit\n",
    "stat,p=ks_2samp(data,randdata)"
   ]
  },
  {
   "cell_type": "code",
   "execution_count": 9,
   "metadata": {
    "collapsed": false
   },
   "outputs": [
    {
     "name": "stdout",
     "output_type": "stream",
     "text": [
      "mu: 3.03896590139e+14\n",
      "mu_sem: 3.77544629257e+13\n",
      "sigma: 3.77544629257e+14\n",
      "t_m: 1.86438631122e+14\n",
      "tau: [  2.79904346e+14]\n",
      "mu_sigma_ratio: 0.804928918567\n",
      "log2mu_median_ratio: 1.12983593244\n",
      "tau_mu_ratio: [ 0.92105129]\n",
      "p-value: 0.438716641087\n",
      "ks-stat: 0.0856564\n",
      "events recorded: 100\n"
     ]
    }
   ],
   "source": [
    "#data table: \n",
    "print \"mu:\" , np.mean(data)\n",
    "print \"mu_sem:\", stats.sem(data)\n",
    "print \"sigma:\", np.std(data,ddof=1) \n",
    "print \"t_m:\", np.median(data)\n",
    "print \"tau:\", taufit\n",
    "print \"mu_sigma_ratio:\", np.mean(data)/np.std(data,ddof=1)\n",
    "print \"log2mu_median_ratio:\", np.log(2)*np.mean(data)/np.median(data)\n",
    "print \"tau_mu_ratio:\", taufit/np.mean(data)\n",
    "print \"p-value:\" , p\n",
    "print \"ks-stat:\" , stat\n",
    "print \"events recorded:\" ,  np.size(data)"
   ]
  },
  {
   "cell_type": "markdown",
   "metadata": {},
   "source": [
    "###Sampling"
   ]
  },
  {
   "cell_type": "code",
   "execution_count": 10,
   "metadata": {
    "collapsed": true
   },
   "outputs": [],
   "source": [
    "##random sampling on data set\n",
    "def sampling(data, num_iters, sampsize):\n",
    "\n",
    "    means = np.array([0.0])\n",
    "    pvals = np.array([0.0])\n",
    "    test1 = np.array([0.0])      # statistic test1: mu_sigma_ratio\n",
    "    test2 = np.array([0.0])   # statistic test2: log2mu_median_ratio \n",
    "    \n",
    "    points = 1e4  # number of sampling points for p-val\n",
    "    alpha = 0.05\n",
    "    reject = 0.0\n",
    "   \n",
    "    while np.size(means) <= num_iters: \n",
    "        if reject == num_iters:\n",
    "            break\n",
    "        \n",
    "        smalldata=np.random.choice(data, sampsize, replace=True)\n",
    "        # hist / CDF fit / etc\n",
    "        min = np.min(smalldata)\n",
    "        max = np.max(smalldata)\n",
    "        bins = 10*np.size(smalldata)\n",
    "        time = np.logspace(np.log10(min), np.log10(max), num=bins)\n",
    "        \n",
    "        mu = np.mean(smalldata)\n",
    "        sigma = np.std(smalldata, ddof=1) \n",
    "        t_m = np.median(smalldata)\n",
    "        \n",
    "        time_centers = np.r_[0.5 * (time[:-1] + time[1:])]\n",
    "        hist, bins2 = np.histogram(smalldata, bins=time, density=False)\n",
    "        cdf = np.cumsum(hist)*1.0/smalldata.size\n",
    "        taufit, pcov = curve_fit(analyticalCDF, time_centers, cdf, mu)\n",
    "        # analysis \n",
    "        randdata = np.random.gamma(1, taufit, np.size(data)*points)\n",
    "        stat, p = ks_2samp(smalldata, randdata)\n",
    "        if p > alpha:\n",
    "            means[means.size-1] = mu\n",
    "            pvals[pvals.size-1] = p\n",
    "            test1[test1.size-1] = mu/sigma\n",
    "            test2[test2.size-1] = np.log(2)*mu/t_m\n",
    "            \n",
    "            # debugprint p, mu\n",
    "            means.resize(means.size+1)\n",
    "            pvals.resize(pvals.size+1)\n",
    "            test1.resize(test1.size+1)\n",
    "            test2.resize(test2.size+1)\n",
    "            \n",
    "        if p < alpha:\n",
    "            reject=reject+1\n",
    "            \n",
    "    # this is just book keeping to remove the last 0 element\n",
    "    means = means[:(means.size-1)]\n",
    "    pvals = pvals[:(pvals.size-1)]\n",
    "    mu_sigma_ratio = test1[:(test1.size-1)]\n",
    "    log2mu_median_ratio = test2[:(test2.size-1)]\n",
    "    \n",
    "        \n",
    "    return means, pvals, reject, mu_sigma_ratio, log2mu_median_ratio"
   ]
  },
  {
   "cell_type": "code",
   "execution_count": null,
   "metadata": {
    "collapsed": true
   },
   "outputs": [],
   "source": [
    "filename = [x for x in os.listdir('.') if x[-4:] == '.txt']\n",
    "filename"
   ]
  },
  {
   "cell_type": "code",
   "execution_count": null,
   "metadata": {
    "collapsed": false,
    "scrolled": false
   },
   "outputs": [],
   "source": [
    "%matplotlib inline \n",
    "niter = 2000\n",
    "samplesize = 25   # ex: 40 choose 25\n",
    "filename=['250stride1DA.csv','250stride1DB.csv','100stride1DA.csv','100stride1DA.csv','50stride1DA.csv','50stride1DB.csv','25stride1DA.csv','25stride1DB.csv','500stride1DA.csv','500stride1DB.csv']\n",
    "\n",
    "results={}\n",
    "for name in filename:\n",
    "    datain = np.genfromtxt(name,delimiter=',')\n",
    "    data = datain[:, 1]*1e6    # microsecond\n",
    "    means, pvals, reject, mu_sigma_ratio, log2mu_median_ratio = sampling(data, niter, samplesize)\n",
    "    \n",
    "    if reject == niter:\n",
    "        print name\n",
    "        print \"All rejected\"\n",
    "        continue\n",
    "\n",
    "    \n",
    "    results[name] = [np.mean(means), np.std(means), np.mean(pvals), np.std(pvals),\n",
    "                     np.mean(mu_sigma_ratio), np.std(mu_sigma_ratio), np.mean(log2mu_median_ratio), \n",
    "                     np.std(log2mu_median_ratio), reject]\n",
    "\n",
    "    print \"iteration\", len(means)\n",
    "    print name\n",
    "    print \"mu:\", np.mean(means), np.std(means)\n",
    "    print \"p-value\", np.mean(pvals), np.std(pvals) \n",
    "    print \"mu_sigma_ratio:\", np.mean(mu_sigma_ratio), np.std(mu_sigma_ratio)\n",
    "    print \"log2mu_median_ratio:\", np.mean(log2mu_median_ratio), np.std(log2mu_median_ratio)\n",
    "    print reject\n",
    "    \n",
    "    \n",
    "    fig = plt.figure(figsize=(6,6))\n",
    "    fig.subplots_adjust(left=None, bottom=None, right=None, top=None, wspace=.2, hspace=0.2)\n",
    "    axes = fig.add_subplot(211)\n",
    "\n",
    "    plt.hist(means, bins=100, color='green', normed=True, label='sample means')\n",
    "    axes.set_xlabel('sample mean')\n",
    "    #axes.set_ylabel('count')\n",
    "    \n",
    "    axes = fig.add_subplot(212)\n",
    "    plt.hist(pvals, bins=100, color='blue', normed=True, label='sample p')\n",
    "    axes.set_xlabel('sample p')\n",
    "    #axes.set_ylabel('count')\n",
    "    plt.show()\n"
   ]
  },
  {
   "cell_type": "code",
   "execution_count": null,
   "metadata": {
    "collapsed": true
   },
   "outputs": [],
   "source": [
    "results"
   ]
  },
  {
   "cell_type": "code",
   "execution_count": null,
   "metadata": {
    "collapsed": true
   },
   "outputs": [],
   "source": [
    "#Rejecting rate\n",
    "for i in results.values():\n",
    "    print i[-1], i[-1]/(2000+i[-1])"
   ]
  }
 ],
 "metadata": {
  "kernelspec": {
   "display_name": "Python 2",
   "language": "python",
   "name": "python2"
  },
  "language_info": {
   "codemirror_mode": {
    "name": "ipython",
    "version": 2
   },
   "file_extension": ".py",
   "mimetype": "text/x-python",
   "name": "python",
   "nbconvert_exporter": "python",
   "pygments_lexer": "ipython2",
   "version": "2.7.11"
  }
 },
 "nbformat": 4,
 "nbformat_minor": 0
}
